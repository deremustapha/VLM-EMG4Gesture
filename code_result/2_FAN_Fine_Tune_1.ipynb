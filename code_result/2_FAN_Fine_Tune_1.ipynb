{
 "cells": [
  {
   "cell_type": "markdown",
   "metadata": {},
   "source": [
    "# 1. Imports"
   ]
  },
  {
   "cell_type": "code",
   "execution_count": 1,
   "metadata": {},
   "outputs": [],
   "source": [
    "from data_preparation import *\n",
    "from preprocessing import *\n",
    "\n",
    "import torch\n",
    "import torch.nn as nn\n",
    "import torch.optim as optim\n",
    "import torch.nn.functional as F\n",
    "from torch.utils.data import DataLoader\n",
    "\n",
    "from tqdm import tqdm\n",
    "import matplotlib.pyplot as plt\n",
    "import seaborn as sns\n",
    "import random\n",
    "\n",
    "from sklearn.metrics import (\n",
    "    f1_score,\n",
    "    roc_auc_score,\n",
    "    precision_score,\n",
    "    recall_score,\n",
    "    top_k_accuracy_score,\n",
    ")\n",
    "\n",
    "import torchmetrics\n",
    "from torchmetrics.classification import MulticlassConfusionMatrix"
   ]
  },
  {
   "cell_type": "markdown",
   "metadata": {},
   "source": [
    "# 1.1. SEED SET"
   ]
  },
  {
   "cell_type": "code",
   "execution_count": 2,
   "metadata": {},
   "outputs": [],
   "source": [
    "random_seed = 42\n",
    "random.seed(random_seed)\n",
    "np.random.seed(random_seed)\n",
    "torch.manual_seed(random_seed)\n",
    "torch.cuda.manual_seed(random_seed)"
   ]
  },
  {
   "cell_type": "markdown",
   "metadata": {},
   "source": [
    "# 2. Data"
   ]
  },
  {
   "cell_type": "code",
   "execution_count": null,
   "metadata": {},
   "outputs": [],
   "source": [
    "path = ''\n",
    "\n",
    "select_subject=1\n",
    "fs=200\n",
    "number_gestures=4\n",
    "record_time=5\n",
    "train_repetition=[1, 2, 3, 4, 5]\n",
    "test_repetition=[6, 7, 8, 9, 10]\n",
    "\n",
    "gesture=[1, 2, 3, 4]\n",
    "selected_gesture=[1, 2, 3, 4]\n",
    "num_gesture=len(gesture)\n",
    "\n",
    "notch_freq=60.0 \n",
    "low_cut=10.0\n",
    "high_cut=99.0\n",
    "order=5\n",
    "\n",
    "window_time=200 \n",
    "overlap=60\n",
    "no_channel=8\n",
    "\n",
    "batch_size = 32"
   ]
  },
  {
   "cell_type": "code",
   "execution_count": 4,
   "metadata": {},
   "outputs": [],
   "source": [
    "emg_prep = EMGDataPreparation(base_path=path, fs=fs, rec_time=record_time)\n",
    "subject_path, train_gesture, test_gesture = emg_prep.get_per_subject_file(subject_number=select_subject, num_gesture=num_gesture, train_repetition=train_repetition, test_repetition=test_repetition)\n",
    "train_data, test_data = emg_prep.load_data_per_subject(subject_path, selected_gesture=selected_gesture, train_gesture=train_gesture, test_gesture=test_gesture)\n",
    "train_data, train_labels = emg_prep.get_data_labels(train_data)\n",
    "test_data, test_labels = emg_prep.get_data_labels(test_data)"
   ]
  },
  {
   "cell_type": "markdown",
   "metadata": {},
   "source": [
    "## 2.1 Data Preprocessing"
   ]
  },
  {
   "cell_type": "code",
   "execution_count": 5,
   "metadata": {},
   "outputs": [],
   "source": [
    "preprocess = EMGPreprocessing(fs=200, notch_freq=notch_freq, low_cut=low_cut, high_cut=high_cut, order=order)\n",
    "train_data = preprocess.remove_mains(train_data)\n",
    "test_data = preprocess.remove_mains(test_data)\n",
    "train_data = preprocess.bandpass_filter(train_data)\n",
    "test_data = preprocess.bandpass_filter(test_data)"
   ]
  },
  {
   "cell_type": "code",
   "execution_count": 6,
   "metadata": {},
   "outputs": [
    {
     "name": "stdout",
     "output_type": "stream",
     "text": [
      "The max value of train data: 165.4396117225104\n",
      "The min value of train data: -159.59747480488096\n",
      "The max value of test data: 153.85377440815324\n",
      "The min value of test data: -144.10678156701627\n"
     ]
    },
    {
     "data": {
      "text/plain": [
       "((1248, 1, 8, 40), (1248,), (1248, 1, 8, 40), (1248,))"
      ]
     },
     "execution_count": 6,
     "metadata": {},
     "output_type": "execute_result"
    }
   ],
   "source": [
    "# Overlap Windowing\n",
    "window_train_data, window_train_labels = emg_prep.window_with_overlap(train_data, train_labels, window_time=200, overlap=60, no_channel=8)\n",
    "window_test_data, window_test_labels = emg_prep.window_with_overlap(test_data, test_labels, window_time=200, overlap=60, no_channel=8)\n",
    "\n",
    "# Expand Dimension\n",
    "window_train_data = np.expand_dims(window_train_data, axis=1)\n",
    "window_test_data = np.expand_dims(window_test_data, axis=1)\n",
    "\n",
    "# # Normalize Data\n",
    "# window_train_data = min_max_normalization(window_train_data)\n",
    "# window_test_data = min_max_normalization(window_test_data)\n",
    "\n",
    "# Shuffle Data\n",
    "window_train_data, window_train_labels = shuffle_data(window_train_data, window_train_labels)\n",
    "window_test_data, window_test_labels = shuffle_data(window_test_data, window_test_labels)\n",
    "\n",
    "# Print\n",
    "print(f'The max value of train data: {np.max(window_train_data)}')\n",
    "print(f'The min value of train data: {np.min(window_train_data)}')\n",
    "print(f'The max value of test data: {np.max(window_test_data)}')\n",
    "print(f'The min value of test data: {np.min(window_test_data)}')\n",
    "\n",
    "# Convert to Tensor\n",
    "train_dataset = EMGDataset(window_train_data, window_train_labels)\n",
    "test_dataset = EMGDataset(window_test_data, window_test_labels)\n",
    "train_dataloader = DataLoader(train_dataset, batch_size=32, shuffle=True)\n",
    "test_dataloader = DataLoader(test_dataset, batch_size=32, shuffle=True)\n",
    "\n",
    "\n",
    "window_train_data.shape, window_train_labels.shape, window_test_data.shape, window_test_labels.shape"
   ]
  },
  {
   "cell_type": "code",
   "execution_count": 7,
   "metadata": {},
   "outputs": [
    {
     "data": {
      "image/png": "[encoded data removed]",
      "text/plain": [
       "<Figure size 640x480 with 1 Axes>"
      ]
     },
     "metadata": {},
     "output_type": "display_data"
    }
   ],
   "source": [
    "np.unique(window_train_labels, return_counts=True)\n",
    "counts_train = np.unique(window_train_labels, return_counts=True)\n",
    "\n",
    "\n",
    "\n",
    "plt.bar(counts_train[0], counts_train[1])\n",
    "plt.title('Training Set Distribution')\n",
    "plt.xlabel('Class')\n",
    "plt.ylabel('Count')\n",
    "plt.show()"
   ]
  },
  {
   "cell_type": "markdown",
   "metadata": {},
   "source": [
    "# 3. EMGFAN Architecture"
   ]
  },
  {
   "cell_type": "code",
   "execution_count": 8,
   "metadata": {},
   "outputs": [],
   "source": [
    "class FANLayer(nn.Module):\n",
    "\n",
    "    \n",
    "    def __init__(self, input_dim, output_dim, p_ratio=0.25, activation='gelu', use_p_bias=True):\n",
    "        super(FANLayer, self).__init__()\n",
    "        \n",
    "        # Ensure the p_ratio is within a valid range\n",
    "        assert 0 < p_ratio < 0.5, \"p_ratio must be between 0 and 0.5\"\n",
    "        \n",
    "        self.p_ratio = p_ratio\n",
    "        p_output_dim = int(output_dim * self.p_ratio)\n",
    "        g_output_dim = output_dim - p_output_dim * 2  # Account for cosine and sine terms\n",
    "\n",
    "        # Linear transformation for the p component (for cosine and sine parts)\n",
    "        self.input_linear_p = nn.Linear(input_dim, p_output_dim, bias=use_p_bias)\n",
    "        \n",
    "        # Linear transformation for the g component\n",
    "        self.input_linear_g = nn.Linear(input_dim, g_output_dim)\n",
    "        \n",
    "        # Set the activation function\n",
    "        if isinstance(activation, str):\n",
    "            self.activation = getattr(F, activation)\n",
    "        else:\n",
    "            self.activation = activation if activation else lambda x: x\n",
    "\n",
    "    def forward(self, src):\n",
    "        \"\"\"\n",
    "        Args:\n",
    "            src (Tensor): Input tensor of shape (batch_size, input_dim).\n",
    "        \n",
    "        Returns:\n",
    "            Tensor: Output tensor of shape (batch_size, output_dim), after applying the FAN layer.\n",
    "        \"\"\"\n",
    "        \n",
    "        # Apply the linear transformation followed by the activation for the g component\n",
    "\n",
    "        g = self.activation(self.input_linear_g(src))\n",
    "        \n",
    "        # Apply the linear transformation for the p component\n",
    "        p = self.input_linear_p(src)\n",
    "\n",
    "        # Concatenate cos(p), sin(p), and activated g along the last dimension\n",
    "        output = torch.cat((torch.cos(p), torch.sin(p), g), dim=-1)\n",
    "\n",
    "        \n",
    "        return output"
   ]
  },
  {
   "cell_type": "code",
   "execution_count": 9,
   "metadata": {},
   "outputs": [],
   "source": [
    "class EMGFAN(nn.Module):\n",
    "    def __init__(self, input_dim=1, num_gesture=4, similarparameter=False):\n",
    "        super(EMGFAN, self).__init__()\n",
    "        self.similarparameter = similarparameter\n",
    "        self.out_gesture = num_gesture\n",
    "        self.in_channel = input_dim\n",
    "\n",
    "        self.conv1 = nn.Conv2d(self.in_channel, 32, kernel_size=3)\n",
    "        self.conv2 = nn.Conv2d(32, 32, kernel_size=3)\n",
    "        self.batchnorm1 = nn.BatchNorm2d(32)\n",
    "        self.maxpool2 = nn.MaxPool2d(kernel_size=(2, 2), stride=(2, 2))\n",
    "        self.dropout = nn.Dropout(0.5)\n",
    "        self.flatten = nn.Flatten()\n",
    "        self.scalar = lambda x: x*4//3 if self.similarparameter else x\n",
    "        self.FAN = FANLayer(1152, self.scalar(256))\n",
    "        self.fc2 = nn.Linear(256, self.out_gesture)\n",
    "    \n",
    "    def forward(self, x):\n",
    "        x = F.relu(self.conv1(x))\n",
    "        x = F.relu(self.conv2(x))\n",
    "        x = self.batchnorm1(x) \n",
    "        x = self.maxpool2(x)\n",
    "        x = self.dropout(x)\n",
    "        x = self.flatten(x)\n",
    "        x = self.FAN(x)\n",
    "        x = self.fc2(x)\n",
    "        return x"
   ]
  },
  {
   "cell_type": "markdown",
   "metadata": {},
   "source": [
    "## 3.1. Load Pretrained Model"
   ]
  },
  {
   "cell_type": "code",
   "execution_count": 10,
   "metadata": {},
   "outputs": [
    {
     "data": {
      "text/plain": [
       "<All keys matched successfully>"
      ]
     },
     "execution_count": 10,
     "metadata": {},
     "output_type": "execute_result"
    }
   ],
   "source": [
    "torch.manual_seed(42)\n",
    "device = torch.device('cuda' if torch.cuda.is_available() else 'cpu')\n",
    "model = EMGFAN(1, num_gesture=number_gestures, similarparameter=False).to(device)\n",
    "save_dir = '/mnt/d/AI-Workspace/VLM/VLM-EMG4Gesture/CKAN-EMG-Decoder/model_weights/all/fan_33.pth'\n",
    "model.load_state_dict(torch.load(save_dir))"
   ]
  },
  {
   "cell_type": "markdown",
   "metadata": {},
   "source": [
    "# 4. Fine-Tune"
   ]
  },
  {
   "cell_type": "code",
   "execution_count": 11,
   "metadata": {},
   "outputs": [],
   "source": [
    "def test_loop(model, train_device, data, loss_fn):\n",
    "    model.eval()\n",
    "    test_loss = 0\n",
    "    correct = 0\n",
    "    total = 0\n",
    "\n",
    "    with torch.no_grad():\n",
    "        for X, y in data:\n",
    "            X = X.float().to(train_device)\n",
    "            y = y.long().to(train_device)\n",
    "            model = model.to(train_device)\n",
    "\n",
    "            y_pred = model(X)\n",
    "            loss = loss_fn(y_pred, y)\n",
    "\n",
    "            test_loss += loss.item()\n",
    "            total += y.size(0)\n",
    "            correct += (y_pred.argmax(1) == y).sum().item()\n",
    "\n",
    "    return test_loss / total, correct / total"
   ]
  },
  {
   "cell_type": "markdown",
   "metadata": {},
   "source": [
    "## 4.1. None"
   ]
  },
  {
   "cell_type": "code",
   "execution_count": 12,
   "metadata": {},
   "outputs": [],
   "source": [
    "criterion = nn.CrossEntropyLoss()"
   ]
  },
  {
   "cell_type": "code",
   "execution_count": 13,
   "metadata": {},
   "outputs": [
    {
     "name": "stdout",
     "output_type": "stream",
     "text": [
      "CLER for None\n",
      "CLER 35.0962%\n"
     ]
    }
   ],
   "source": [
    "print(f\"CLER for None\")\n",
    "test_loss, test_acc = test_loop(model, device, test_dataloader, criterion)\n",
    "print(f'CLER {100 - test_acc*100:.4f}%')"
   ]
  },
  {
   "cell_type": "markdown",
   "metadata": {},
   "source": [
    "## 4.2. Full-Train Fine-Tune"
   ]
  },
  {
   "cell_type": "code",
   "execution_count": 14,
   "metadata": {},
   "outputs": [
    {
     "data": {
      "text/plain": [
       "<All keys matched successfully>"
      ]
     },
     "execution_count": 14,
     "metadata": {},
     "output_type": "execute_result"
    }
   ],
   "source": [
    "torch.manual_seed(42)\n",
    "device = \"cuda\" if torch.cuda.is_available() else \"cpu\"\n",
    "full_layer_model = EMGFAN(1, num_gesture=number_gestures, similarparameter=False).to(device)\n",
    "save_dir = '/mnt/d/AI-Workspace/VLM/VLM-EMG4Gesture/CKAN-EMG-Decoder/model_weights/all/fan_33.pth'\n",
    "full_layer_model.load_state_dict(torch.load(save_dir))"
   ]
  },
  {
   "cell_type": "code",
   "execution_count": 15,
   "metadata": {},
   "outputs": [],
   "source": [
    "epochs = 16\n",
    "learning_rate = 0.001\n",
    "optimizer = optim.Adam(full_layer_model.parameters(), lr=learning_rate)\n",
    "criterion = nn.CrossEntropyLoss()"
   ]
  },
  {
   "cell_type": "code",
   "execution_count": 16,
   "metadata": {},
   "outputs": [],
   "source": [
    "def fine_tune_loop(model, train_device, data, loss_fn, optimizer):\n",
    "\n",
    "    model.train()\n",
    "    train_loss = 0\n",
    "    correct = 0\n",
    "    total = 0\n",
    "\n",
    "    for X, y in data:\n",
    "\n",
    "\n",
    "        optimizer.zero_grad()\n",
    "\n",
    "        X = X.float().to(train_device)\n",
    "        y = y.long().to(train_device)\n",
    "        model = model.to(train_device)\n",
    "\n",
    "        y_pred = model(X)\n",
    "        loss = loss_fn(y_pred, y)\n",
    "        loss.backward()\n",
    "        optimizer.step()\n",
    "        #scheduler.step()\n",
    "\n",
    "        train_loss += loss.item()\n",
    "        total += y.size(0)\n",
    "        correct += (y_pred.argmax(1) == y).sum().item()\n",
    "\n",
    "    return train_loss / total, correct / total"
   ]
  },
  {
   "cell_type": "code",
   "execution_count": 17,
   "metadata": {},
   "outputs": [
    {
     "name": "stdout",
     "output_type": "stream",
     "text": [
      "FineTune on cuda\n"
     ]
    },
    {
     "name": "stderr",
     "output_type": "stream",
     "text": [
      "100%|██████████| 16/16 [00:01<00:00, 12.56it/s]"
     ]
    },
    {
     "name": "stdout",
     "output_type": "stream",
     "text": [
      "Epoch 16/16\n",
      "The Average FineTune Accuracy: 91.6066%\n",
      "The Last FineTune Accuracy 97.1154%\n"
     ]
    },
    {
     "name": "stderr",
     "output_type": "stream",
     "text": [
      "\n"
     ]
    }
   ],
   "source": [
    "print(f\"FineTune on {device}\")\n",
    "train_accuracy_per_epoch = []\n",
    "\n",
    "for epoch in tqdm(range(epochs)):\n",
    "    \n",
    "    train_loss, train_acc = fine_tune_loop(full_layer_model, device, train_dataloader, criterion, optimizer)\n",
    "    train_accuracy_per_epoch.append(train_acc)\n",
    "\n",
    "AVG_TRAIN_ACC = np.mean(train_accuracy_per_epoch)\n",
    "print(f\"Epoch {epoch+1}/{epochs}\")\n",
    "print(f\"The Average FineTune Accuracy: {AVG_TRAIN_ACC*100:.4f}%\")\n",
    "print(f'The Last FineTune Accuracy {train_acc*100:.4f}%')"
   ]
  },
  {
   "cell_type": "code",
   "execution_count": 18,
   "metadata": {},
   "outputs": [
    {
     "name": "stdout",
     "output_type": "stream",
     "text": [
      "CLER for Full Layer FineTune\n",
      "CLER 17.3077%\n"
     ]
    }
   ],
   "source": [
    "print(f\"CLER for Full Layer FineTune\")\n",
    "test_loss, test_acc = test_loop(full_layer_model, device, test_dataloader, criterion)\n",
    "print(f'CLER {100 - test_acc*100:.4f}%')"
   ]
  },
  {
   "cell_type": "markdown",
   "metadata": {},
   "source": [
    "## 4.3. Last-Layer Fine-Tune"
   ]
  },
  {
   "cell_type": "code",
   "execution_count": 19,
   "metadata": {},
   "outputs": [
    {
     "data": {
      "text/plain": [
       "<All keys matched successfully>"
      ]
     },
     "execution_count": 19,
     "metadata": {},
     "output_type": "execute_result"
    }
   ],
   "source": [
    "torch.manual_seed(42)\n",
    "device = \"cuda\" if torch.cuda.is_available() else \"cpu\"\n",
    "last_layer_model = EMGFAN(1, num_gesture=number_gestures, similarparameter=False).to(device)\n",
    "save_dir = '/mnt/d/AI-Workspace/VLM/VLM-EMG4Gesture/CKAN-EMG-Decoder/model_weights/all/fan_33.pth'\n",
    "last_layer_model.load_state_dict(torch.load(save_dir))"
   ]
  },
  {
   "cell_type": "code",
   "execution_count": 20,
   "metadata": {},
   "outputs": [
    {
     "name": "stdout",
     "output_type": "stream",
     "text": [
      "fc1 is frozen: False\n"
     ]
    }
   ],
   "source": [
    "for param in last_layer_model.parameters():\n",
    "    param.requires_grad = False\n",
    "for param in last_layer_model.fc2.parameters():\n",
    "    param.requires_grad = True\n",
    "\n",
    "def is_layer_frozen(layer):\n",
    "    return all(not param.requires_grad for param in layer.parameters())\n",
    "print(\"fc1 is frozen:\", is_layer_frozen(last_layer_model.fc2))"
   ]
  },
  {
   "cell_type": "code",
   "execution_count": 21,
   "metadata": {},
   "outputs": [
    {
     "name": "stdout",
     "output_type": "stream",
     "text": [
      "FineTune on cuda\n"
     ]
    },
    {
     "name": "stderr",
     "output_type": "stream",
     "text": [
      "100%|██████████| 16/16 [00:00<00:00, 18.11it/s]"
     ]
    },
    {
     "name": "stdout",
     "output_type": "stream",
     "text": [
      "Epoch 16/16\n",
      "The Average FineTune Accuracy: 51.8029%\n",
      "The Last FineTune Accuracy 51.6026%\n"
     ]
    },
    {
     "name": "stderr",
     "output_type": "stream",
     "text": [
      "\n"
     ]
    }
   ],
   "source": [
    "print(f\"FineTune on {device}\")\n",
    "train_accuracy_per_epoch = []\n",
    "\n",
    "for epoch in tqdm(range(epochs)):\n",
    "    \n",
    "    train_loss, train_acc = fine_tune_loop(last_layer_model, device, train_dataloader, criterion, optimizer)\n",
    "    train_accuracy_per_epoch.append(train_acc)\n",
    "\n",
    "AVG_TRAIN_ACC = np.mean(train_accuracy_per_epoch)\n",
    "print(f\"Epoch {epoch+1}/{epochs}\")\n",
    "print(f\"The Average FineTune Accuracy: {AVG_TRAIN_ACC*100:.4f}%\")\n",
    "print(f'The Last FineTune Accuracy {train_acc*100:.4f}%')"
   ]
  },
  {
   "cell_type": "code",
   "execution_count": 22,
   "metadata": {},
   "outputs": [
    {
     "name": "stdout",
     "output_type": "stream",
     "text": [
      "CLER for Last Layer FineTune\n",
      "Test accuracy 37.9006%\n"
     ]
    }
   ],
   "source": [
    "print(f\"CLER for Last Layer FineTune\")\n",
    "test_loss, test_acc = test_loop(last_layer_model, device, test_dataloader, criterion)\n",
    "print(f'Test accuracy {100 - test_acc*100:.4f}%')"
   ]
  }
 ],
 "metadata": {
  "kernelspec": {
   "display_name": "torch",
   "language": "python",
   "name": "python3"
  },
  "language_info": {
   "codemirror_mode": {
    "name": "ipython",
    "version": 3
   },
   "file_extension": ".py",
   "mimetype": "text/x-python",
   "name": "python",
   "nbconvert_exporter": "python",
   "pygments_lexer": "ipython3",
   "version": "3.12.4"
  }
 },
 "nbformat": 4,
 "nbformat_minor": 2
}
