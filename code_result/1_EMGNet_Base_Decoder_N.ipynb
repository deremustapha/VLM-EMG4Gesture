{
 "cells": [
  {
   "cell_type": "markdown",
   "metadata": {},
   "source": [
    "# 1. Imports"
   ]
  },
  {
   "cell_type": "code",
   "execution_count": 1,
   "metadata": {},
   "outputs": [],
   "source": [
    "from data_preparation import *\n",
    "from preprocessing import *\n",
    "\n",
    "import torch\n",
    "import torch.nn as nn\n",
    "import torch.optim as optim\n",
    "import torch.nn.functional as F\n",
    "from torch.utils.data import DataLoader\n",
    "\n",
    "from tqdm import tqdm\n",
    "import matplotlib.pyplot as plt\n",
    "import seaborn as sns\n",
    "import random\n",
    "\n",
    "from sklearn.metrics import (\n",
    "    f1_score,\n",
    "    roc_auc_score,\n",
    "    precision_score,\n",
    "    recall_score,\n",
    "    top_k_accuracy_score,\n",
    ")\n",
    "\n",
    "import torchmetrics\n",
    "from torchmetrics.classification import MulticlassConfusionMatrix"
   ]
  },
  {
   "cell_type": "markdown",
   "metadata": {},
   "source": [
    "## 1.1 SEED SET"
   ]
  },
  {
   "cell_type": "code",
   "execution_count": 2,
   "metadata": {},
   "outputs": [],
   "source": [
    "random_seed = 42\n",
    "random.seed(random_seed)\n",
    "np.random.seed(random_seed)\n",
    "torch.manual_seed(random_seed)\n",
    "torch.cuda.manual_seed(random_seed)"
   ]
  },
  {
   "cell_type": "markdown",
   "metadata": {},
   "source": [
    "# 2. Data"
   ]
  },
  {
   "cell_type": "code",
   "execution_count": 3,
   "metadata": {},
   "outputs": [],
   "source": [
    "path = '/mnt/d/AI-Workspace/sEMGClassification/BMIS_EMG_DATA/data/mat_data'\n",
    "subject_number = 1\n",
    "end_subject = 33\n",
    "fs = 200\n",
    "number_gestures = 4\n",
    "record_time = 5\n",
    "train_repetition = [1, 2, 3, 4, 5, 6]\n",
    "test_repetition = [3, 5]\n",
    "gesture = [1, 2, 3, 4, 5, 6, 7]\n",
    "selected_gesture = [1, 2, 3, 4]\n",
    "num_gesture = len(gesture)\n",
    "\n",
    "notch_freq=60.0 \n",
    "low_cut=10.0\n",
    "high_cut=99.0\n",
    "order=5\n",
    "\n",
    "window_time=200 \n",
    "overlap=60\n",
    "no_channel=8\n",
    "\n",
    "batch_size = 32"
   ]
  },
  {
   "cell_type": "code",
   "execution_count": 4,
   "metadata": {},
   "outputs": [
    {
     "data": {
      "text/plain": [
       "((8, 792000), (792000,))"
      ]
     },
     "execution_count": 4,
     "metadata": {},
     "output_type": "execute_result"
    }
   ],
   "source": [
    "emg_prep = EMGDataPreparation(base_path=path, fs=fs, rec_time=record_time)\n",
    "data, labels, _, _ = emg_prep.load_multiple_subject(start_subject=subject_number, end_subject=end_subject, num_gesture=num_gesture, train_repetition=train_repetition, test_repetition=test_repetition, selected_gesture=selected_gesture)\n",
    "data.shape, labels.shape"
   ]
  },
  {
   "cell_type": "code",
   "execution_count": 5,
   "metadata": {},
   "outputs": [
    {
     "data": {
      "image/png": "[encoded data removed]",
      "text/plain": [
       "<Figure size 640x480 with 1 Axes>"
      ]
     },
     "metadata": {},
     "output_type": "display_data"
    }
   ],
   "source": [
    "np.unique(labels, return_counts=True)\n",
    "counts_train = np.unique(labels, return_counts=True)\n",
    "\n",
    "\n",
    "\n",
    "plt.bar(counts_train[0], counts_train[1])\n",
    "plt.title('Training Set Distribution')\n",
    "plt.xlabel('Class')\n",
    "plt.ylabel('Count')\n",
    "plt.show()"
   ]
  },
  {
   "cell_type": "markdown",
   "metadata": {},
   "source": [
    "## 2.1. Data Preprocessing"
   ]
  },
  {
   "cell_type": "code",
   "execution_count": 6,
   "metadata": {},
   "outputs": [],
   "source": [
    "preprocess = EMGPreprocessing(fs=fs, notch_freq=notch_freq, low_cut=low_cut, high_cut=high_cut, order=order)\n",
    "\n",
    "# Notch filter\n",
    "data = preprocess.remove_mains(data)\n",
    "\n",
    "# Bandpass filter\n",
    "data = preprocess.bandpass_filter(data)\n",
    "\n",
    "# Windowing\n",
    "data, labels = emg_prep.window_with_overlap(data, labels, window_time=window_time, overlap=overlap, no_channel=no_channel)\n",
    "data = np.expand_dims(data, axis=1)\n",
    "\n",
    "# data = scale_data_normalization(data)"
   ]
  },
  {
   "cell_type": "code",
   "execution_count": 7,
   "metadata": {},
   "outputs": [
    {
     "name": "stdout",
     "output_type": "stream",
     "text": [
      "The training data shape is (39598, 1, 8, 40)\n",
      "The testing data shape is (9900, 1, 8, 40)\n",
      "The maximum value in the training data is 229.63696847201356\n",
      "The minimum value in the training data is -226.17683637053565\n",
      "The maximum value in the testing data is 211.0474413009964\n",
      "The minimum value in the testing data is -201.04365200478946\n"
     ]
    }
   ],
   "source": [
    "# Shuffle the data\n",
    "data, labels = shuffle_data(data, labels)\n",
    "train_data, train_labels, test_data, test_labels = data_split(data, labels, train_ratio=80) # 80% train, 20% test   \n",
    "print(f'The training data shape is {train_data.shape}')\n",
    "print(f'The testing data shape is {test_data.shape}')\n",
    "print(f'The maximum value in the training data is {np.max(train_data)}')\n",
    "print(f'The minimum value in the training data is {np.min(train_data)}')\n",
    "print(f'The maximum value in the testing data is {np.max(test_data)}')\n",
    "print(f'The minimum value in the testing data is {np.min(test_data)}')"
   ]
  },
  {
   "cell_type": "code",
   "execution_count": 8,
   "metadata": {},
   "outputs": [],
   "source": [
    "traindataset = EMGDataset(train_data, train_labels)\n",
    "testdataset = EMGDataset(test_data, test_labels)\n",
    "\n",
    "train_loader = DataLoader(traindataset, batch_size=batch_size, shuffle=True)\n",
    "test_loader = DataLoader(testdataset, batch_size=batch_size, shuffle=False)"
   ]
  },
  {
   "cell_type": "markdown",
   "metadata": {},
   "source": [
    "# 3. EMGNet Architecture "
   ]
  },
  {
   "cell_type": "code",
   "execution_count": 9,
   "metadata": {},
   "outputs": [],
   "source": [
    "class EMGNet(nn.Module):\n",
    "    def __init__(self, out_gesture):\n",
    "        super(EMGNet, self).__init__()\n",
    "\n",
    "        self.conv1 = nn.Conv2d(1, 32, kernel_size=3)\n",
    "        self.conv2 = nn.Conv2d(32, 32, kernel_size=3)\n",
    "        self.batchnorm1 = nn.BatchNorm2d(32)\n",
    "        self.maxpool2 = nn.MaxPool2d(kernel_size=(2, 2), stride=(2, 2))\n",
    "        self.dropout = nn.Dropout(0.5)\n",
    "        self.flatten = nn.Flatten()\n",
    "        self.fc1 = nn.Linear(1152, 256)\n",
    "        self.fc2 = nn.Linear(256, out_gesture)\n",
    "    \n",
    "    def forward(self, x):\n",
    "        x = F.relu(self.conv1(x))\n",
    "        x = F.relu(self.conv2(x))\n",
    "        x = self.batchnorm1(x)\n",
    "        x = self.maxpool2(x)\n",
    "        x = self.dropout(x)\n",
    "        x = self.flatten(x)\n",
    "        x = self.fc1(x)\n",
    "        x = self.fc2(x)\n",
    "        return x"
   ]
  },
  {
   "cell_type": "code",
   "execution_count": 10,
   "metadata": {},
   "outputs": [
    {
     "data": {
      "text/plain": [
       "EMGNet(\n",
       "  (conv1): Conv2d(1, 32, kernel_size=(3, 3), stride=(1, 1))\n",
       "  (conv2): Conv2d(32, 32, kernel_size=(3, 3), stride=(1, 1))\n",
       "  (batchnorm1): BatchNorm2d(32, eps=1e-05, momentum=0.1, affine=True, track_running_stats=True)\n",
       "  (maxpool2): MaxPool2d(kernel_size=(2, 2), stride=(2, 2), padding=0, dilation=1, ceil_mode=False)\n",
       "  (dropout): Dropout(p=0.5, inplace=False)\n",
       "  (flatten): Flatten(start_dim=1, end_dim=-1)\n",
       "  (fc1): Linear(in_features=1152, out_features=256, bias=True)\n",
       "  (fc2): Linear(in_features=256, out_features=4, bias=True)\n",
       ")"
      ]
     },
     "execution_count": 10,
     "metadata": {},
     "output_type": "execute_result"
    }
   ],
   "source": [
    "torch.manual_seed(42)\n",
    "device = torch.device('cuda' if torch.cuda.is_available() else 'cpu')\n",
    "model = EMGNet(out_gesture=number_gestures)\n",
    "model = model.cuda()\n",
    "model"
   ]
  },
  {
   "cell_type": "markdown",
   "metadata": {},
   "source": [
    "# 4. Training and Validation "
   ]
  },
  {
   "cell_type": "code",
   "execution_count": 11,
   "metadata": {},
   "outputs": [],
   "source": [
    "epochs = 64\n",
    "learning_rate =  1e-3\n",
    "weight_decay = 1e-5\n",
    "gamma = 0.8\n",
    "criterion = nn.CrossEntropyLoss()\n",
    "optimizer = optim.Adam(model.parameters(), lr=learning_rate)\n",
    "scheduler = optim.lr_scheduler.ExponentialLR(optimizer, gamma=gamma)"
   ]
  },
  {
   "cell_type": "code",
   "execution_count": 12,
   "metadata": {},
   "outputs": [],
   "source": [
    "def train_loop(model, train_device, data, loss_fn, optimizer, scheduler):\n",
    "\n",
    "    model.train()\n",
    "    train_loss = 0\n",
    "    correct = 0\n",
    "    total = 0\n",
    "\n",
    "    for X, y in data:\n",
    "\n",
    "        X = X.float().to(train_device)\n",
    "        y = y.long().to(train_device)\n",
    "\n",
    "        optimizer.zero_grad()\n",
    "        model = model.to(train_device)\n",
    "\n",
    "        y_pred = model(X)\n",
    "        loss = loss_fn(y_pred, y)\n",
    "        train_loss += loss.item()\n",
    "        \n",
    "        loss.backward()\n",
    "        optimizer.step()\n",
    "        #scheduler.step()\n",
    "        total += y.size(0)\n",
    "        correct += (y_pred.argmax(1) == y).sum().item()\n",
    "\n",
    "    return train_loss / total, correct / total"
   ]
  },
  {
   "cell_type": "code",
   "execution_count": 13,
   "metadata": {},
   "outputs": [],
   "source": [
    "def test_loop(model, train_device, data, loss_fn):\n",
    "    model.eval()\n",
    "    test_loss = 0\n",
    "    correct = 0\n",
    "    total = 0\n",
    "\n",
    "    with torch.no_grad():\n",
    "        for X, y in data:\n",
    "            X = X.float().to(train_device)\n",
    "            y = y.long().to(train_device)\n",
    "            model = model.to(train_device)\n",
    "\n",
    "            y_pred = model(X)\n",
    "            loss = loss_fn(y_pred, y)\n",
    "\n",
    "            test_loss += loss.item()\n",
    "            _, predicted = torch.max(y_pred.data, 1)\n",
    "            correct += (y == predicted).sum().item()\n",
    "            #total += y.size(0)\n",
    "            #correct += (y_pred.argmax(1) == y).sum().item()\n",
    "    test_loss /= len(data.dataset)\n",
    "    accuracy = correct / len(data.dataset)\n",
    "    return test_loss, accuracy"
   ]
  },
  {
   "cell_type": "code",
   "execution_count": 14,
   "metadata": {},
   "outputs": [
    {
     "name": "stdout",
     "output_type": "stream",
     "text": [
      "Training on cuda\n"
     ]
    },
    {
     "name": "stderr",
     "output_type": "stream",
     "text": [
      "100%|██████████| 64/64 [02:04<00:00,  1.95s/it]"
     ]
    },
    {
     "name": "stdout",
     "output_type": "stream",
     "text": [
      "Epoch 64/64\n",
      "The Average Train accuracy: 82.0374%\n"
     ]
    },
    {
     "name": "stderr",
     "output_type": "stream",
     "text": [
      "\n",
      "/home/deremustapha/anaconda3/envs/torch/lib/python3.12/site-packages/numpy/core/fromnumeric.py:3504: RuntimeWarning: Mean of empty slice.\n",
      "  return _methods._mean(a, axis=axis, dtype=dtype,\n",
      "/home/deremustapha/anaconda3/envs/torch/lib/python3.12/site-packages/numpy/core/_methods.py:129: RuntimeWarning: invalid value encountered in scalar divide\n",
      "  ret = ret.dtype.type(ret / rcount)\n"
     ]
    }
   ],
   "source": [
    "print(f\"Training on {device}\")\n",
    "train_accuracy_per_epoch = []\n",
    "test_accuracy_per_epoch = []\n",
    "\n",
    "\n",
    "for epoch in tqdm(range(epochs)):\n",
    "    \n",
    "    train_loss, train_acc = train_loop(model, device, train_loader, criterion, optimizer, scheduler)\n",
    "    #test_loss, test_acc = test_loop(model, device, test_loader, criterion)\n",
    "\n",
    "\n",
    "    train_accuracy_per_epoch.append(train_acc)\n",
    "    #test_accuracy_per_epoch.append(test_acc)\n",
    "    # save_dir = f\"{save_path}/mcunet_pretrain_{epoch+1}.pth\"\n",
    "    # torch.save(model.state_dict(), save_dir)\n",
    "\n",
    "AVG_TRAIN_ACC = np.mean(train_accuracy_per_epoch)\n",
    "AVG_TEST_ACC = np.mean(test_accuracy_per_epoch)\n",
    "\n",
    "print(f\"Epoch {epoch+1}/{epochs}\")\n",
    "print(f\"The Average Train accuracy: {AVG_TRAIN_ACC*100:.4f}%\")\n",
    "#print(f\"The Average Test accuracy: {AVG_TEST_ACC*100:.4f}%\")\n",
    "\n",
    "# print(f'Training accuracy {train_acc*100:.4f}%')\n",
    "# print(f'Test accuracy {test_acc*100:.4f}%')\n"
   ]
  },
  {
   "cell_type": "code",
   "execution_count": 15,
   "metadata": {},
   "outputs": [],
   "source": [
    "#print(f'The CLER is {100 - AVG_TEST_ACC*100:.4f}%')"
   ]
  },
  {
   "cell_type": "markdown",
   "metadata": {},
   "source": [
    "# Test Accuracy"
   ]
  },
  {
   "cell_type": "code",
   "execution_count": 16,
   "metadata": {},
   "outputs": [
    {
     "name": "stdout",
     "output_type": "stream",
     "text": [
      "The CLER is 12.2222%\n"
     ]
    }
   ],
   "source": [
    "test_loss, test_acc = test_loop(model, device, test_loader, criterion)\n",
    "print(f'The CLER is {100 - test_acc*100:.4f}%')"
   ]
  },
  {
   "cell_type": "code",
   "execution_count": 17,
   "metadata": {},
   "outputs": [],
   "source": [
    "base = '/mnt/d/AI-Workspace/VLM/VLM-EMG4Gesture/CKAN-EMG-Decoder/model_weights/all/emg_'\n",
    "save_dir = base + str(end_subject)+'.pth'\n",
    "torch.save(model.state_dict(), save_dir)"
   ]
  },
  {
   "cell_type": "code",
   "execution_count": 18,
   "metadata": {},
   "outputs": [],
   "source": [
    "test_loss, test_acc = test_loop(model, device, test_loader, criterion)"
   ]
  },
  {
   "cell_type": "markdown",
   "metadata": {},
   "source": [
    "# 5. Confusion Matrix"
   ]
  },
  {
   "cell_type": "code",
   "execution_count": 19,
   "metadata": {},
   "outputs": [
    {
     "name": "stdout",
     "output_type": "stream",
     "text": [
      "[[2317   12   93   53]\n",
      " [  57 1967  212  222]\n",
      " [  25   69 2332  103]\n",
      " [  35  201  128 2074]]\n"
     ]
    },
    {
     "data": {
      "image/png": "[encoded data removed]",
      "text/plain": [
       "<Figure size 800x600 with 2 Axes>"
      ]
     },
     "metadata": {},
     "output_type": "display_data"
    }
   ],
   "source": [
    "y_pred = model(torch.tensor(test_data).float().to(device)).argmax(1)\n",
    "y_true = torch.tensor(test_labels).to(device)\n",
    "# Initialize confusion matrix metric and move it to the same device as the model\n",
    "conf_matrix_metric = MulticlassConfusionMatrix(num_classes=number_gestures).to(device)\n",
    "# Compute confusion matrix\n",
    "conf_matrix = conf_matrix_metric(y_pred, y_true)\n",
    "# Move confusion matrix to CPU for visualization\n",
    "conf_matrix = conf_matrix.cpu().numpy()\n",
    "print(conf_matrix)\n",
    "\n",
    "actions = [\"Large Diameter\", \"Medium Diameter\", \"Three Fingers\", \"Pinch\"]\n",
    "\n",
    "# Create heatmap\n",
    "plt.figure(figsize=(8, 6))\n",
    "sns.heatmap(conf_matrix, annot=True, fmt=\".1f\", cmap=\"Greens\", xticklabels=actions, yticklabels=actions)\n",
    "\n",
    "# Labels and title\n",
    "plt.xlabel(\"Detected Action\")\n",
    "plt.ylabel(\"Expected Action\")\n",
    "plt.title(\"Confusion Matrix\")\n",
    "\n",
    "# Show the plot\n",
    "plt.show()"
   ]
  },
  {
   "cell_type": "markdown",
   "metadata": {},
   "source": [
    "# 6. Number of Parameters"
   ]
  },
  {
   "cell_type": "code",
   "execution_count": 20,
   "metadata": {},
   "outputs": [
    {
     "name": "stdout",
     "output_type": "stream",
     "text": [
      "The number of parameters is 305828\n"
     ]
    }
   ],
   "source": [
    "number_of_parameters = sum(p.numel() for p in model.parameters() if p.requires_grad)\n",
    "print(f'The number of parameters is {number_of_parameters}')"
   ]
  }
 ],
 "metadata": {
  "kernelspec": {
   "display_name": "torch",
   "language": "python",
   "name": "python3"
  },
  "language_info": {
   "codemirror_mode": {
    "name": "ipython",
    "version": 3
   },
   "file_extension": ".py",
   "mimetype": "text/x-python",
   "name": "python",
   "nbconvert_exporter": "python",
   "pygments_lexer": "ipython3",
   "version": "3.12.4"
  }
 },
 "nbformat": 4,
 "nbformat_minor": 2
}
